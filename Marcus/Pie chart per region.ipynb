{
 "cells": [
  {
   "cell_type": "code",
   "execution_count": null,
   "id": "183347d7",
   "metadata": {},
   "outputs": [],
   "source": [
    "%matplotlib notebook"
   ]
  },
  {
   "cell_type": "code",
   "execution_count": 2,
   "id": "cd71a8e1",
   "metadata": {},
   "outputs": [],
   "source": [
    "import pandas as pd\n",
    "import numpy as np\n",
    "import requests\n",
    "import sys\n",
    "import matplotlib.pyplot as plt\n",
    "\n",
    "# Google API Key\n",
    "from config import gkey\n",
    "pd.set_option(\"display.max_rows\", None)"
   ]
  },
  {
   "cell_type": "code",
   "execution_count": 3,
   "id": "c2e376c1",
   "metadata": {
    "scrolled": true
   },
   "outputs": [
    {
     "data": {
      "text/html": [
       "<div>\n",
       "<style scoped>\n",
       "    .dataframe tbody tr th:only-of-type {\n",
       "        vertical-align: middle;\n",
       "    }\n",
       "\n",
       "    .dataframe tbody tr th {\n",
       "        vertical-align: top;\n",
       "    }\n",
       "\n",
       "    .dataframe thead th {\n",
       "        text-align: right;\n",
       "    }\n",
       "</style>\n",
       "<table border=\"1\" class=\"dataframe\">\n",
       "  <thead>\n",
       "    <tr style=\"text-align: right;\">\n",
       "      <th></th>\n",
       "      <th>name</th>\n",
       "      <th>country</th>\n",
       "      <th>latitude</th>\n",
       "      <th>longitude</th>\n",
       "      <th>Street Adress</th>\n",
       "      <th>province</th>\n",
       "      <th>state</th>\n",
       "      <th>region</th>\n",
       "      <th>division</th>\n",
       "      <th>price_level</th>\n",
       "      <th>rating</th>\n",
       "      <th>user_ratings_total</th>\n",
       "    </tr>\n",
       "  </thead>\n",
       "  <tbody>\n",
       "    <tr>\n",
       "      <th>0</th>\n",
       "      <td>Sonic Drive-In</td>\n",
       "      <td>US</td>\n",
       "      <td>29.814697</td>\n",
       "      <td>-90.814742</td>\n",
       "      <td>800 N Canal Blvd, Thibodaux, LA 70301</td>\n",
       "      <td>Thibodaux</td>\n",
       "      <td>LA</td>\n",
       "      <td>South</td>\n",
       "      <td>West South Central</td>\n",
       "      <td>1.0</td>\n",
       "      <td>4.3</td>\n",
       "      <td>479.0</td>\n",
       "    </tr>\n",
       "    <tr>\n",
       "      <th>1</th>\n",
       "      <td>Taco Bell</td>\n",
       "      <td>US</td>\n",
       "      <td>35.803788</td>\n",
       "      <td>-83.580553</td>\n",
       "      <td>206 Wears Valley Rd, Pigeon Forge, TN 37863</td>\n",
       "      <td>Pigeon Forge</td>\n",
       "      <td>TN</td>\n",
       "      <td>South</td>\n",
       "      <td>East South Central</td>\n",
       "      <td>1.0</td>\n",
       "      <td>3.3</td>\n",
       "      <td>1029.0</td>\n",
       "    </tr>\n",
       "    <tr>\n",
       "      <th>2</th>\n",
       "      <td>Arby's</td>\n",
       "      <td>US</td>\n",
       "      <td>35.782339</td>\n",
       "      <td>-83.551408</td>\n",
       "      <td>3652 Parkway, Pigeon Forge, TN 37863</td>\n",
       "      <td>Pigeon Forge</td>\n",
       "      <td>TN</td>\n",
       "      <td>South</td>\n",
       "      <td>East South Central</td>\n",
       "      <td>1.0</td>\n",
       "      <td>3.9</td>\n",
       "      <td>1620.0</td>\n",
       "    </tr>\n",
       "    <tr>\n",
       "      <th>3</th>\n",
       "      <td>Steak 'n Shake</td>\n",
       "      <td>US</td>\n",
       "      <td>33.562738</td>\n",
       "      <td>-84.321143</td>\n",
       "      <td>2118 Mt Zion Parkway, Morrow, GA 30260</td>\n",
       "      <td>Morrow</td>\n",
       "      <td>GA</td>\n",
       "      <td>South</td>\n",
       "      <td>South Atlantic</td>\n",
       "      <td>1.0</td>\n",
       "      <td>3.4</td>\n",
       "      <td>5287.0</td>\n",
       "    </tr>\n",
       "    <tr>\n",
       "      <th>4</th>\n",
       "      <td>Wendy's</td>\n",
       "      <td>US</td>\n",
       "      <td>42.368823</td>\n",
       "      <td>-83.138251</td>\n",
       "      <td>9768 Grand River Ave, Detroit, MI 48204</td>\n",
       "      <td>Detroit</td>\n",
       "      <td>MI</td>\n",
       "      <td>Midwest</td>\n",
       "      <td>East North Central</td>\n",
       "      <td>1.0</td>\n",
       "      <td>3.6</td>\n",
       "      <td>1560.0</td>\n",
       "    </tr>\n",
       "  </tbody>\n",
       "</table>\n",
       "</div>"
      ],
      "text/plain": [
       "             name country   latitude  longitude  \\\n",
       "0  Sonic Drive-In      US  29.814697 -90.814742   \n",
       "1       Taco Bell      US  35.803788 -83.580553   \n",
       "2          Arby's      US  35.782339 -83.551408   \n",
       "3  Steak 'n Shake      US  33.562738 -84.321143   \n",
       "4         Wendy's      US  42.368823 -83.138251   \n",
       "\n",
       "                                 Street Adress       province state   region  \\\n",
       "0        800 N Canal Blvd, Thibodaux, LA 70301      Thibodaux    LA    South   \n",
       "1  206 Wears Valley Rd, Pigeon Forge, TN 37863   Pigeon Forge    TN    South   \n",
       "2         3652 Parkway, Pigeon Forge, TN 37863   Pigeon Forge    TN    South   \n",
       "3       2118 Mt Zion Parkway, Morrow, GA 30260         Morrow    GA    South   \n",
       "4      9768 Grand River Ave, Detroit, MI 48204        Detroit    MI  Midwest   \n",
       "\n",
       "             division  price_level  rating  user_ratings_total  \n",
       "0  West South Central          1.0     4.3               479.0  \n",
       "1  East South Central          1.0     3.3              1029.0  \n",
       "2  East South Central          1.0     3.9              1620.0  \n",
       "3      South Atlantic          1.0     3.4              5287.0  \n",
       "4  East North Central          1.0     3.6              1560.0  "
      ]
     },
     "execution_count": 3,
     "metadata": {},
     "output_type": "execute_result"
    }
   ],
   "source": [
    "fastfood_us_df = pd.read_csv(\"fastfood_census.csv\")\n",
    "fastfood_us_df.head()"
   ]
  },
  {
   "cell_type": "code",
   "execution_count": null,
   "id": "7fde0323",
   "metadata": {},
   "outputs": [],
   "source": [
    "fastfood_us_df['name']=fastfood_us_df['name'].replace({\"Chick-Fil-A\":'Chick-fil-A'\n",
    "                                          })"
   ]
  },
  {
   "cell_type": "code",
   "execution_count": 4,
   "id": "79eb4813",
   "metadata": {},
   "outputs": [],
   "source": [
    "fastfood_us =fastfood_us_df.dropna()"
   ]
  },
  {
   "cell_type": "code",
   "execution_count": 5,
   "id": "35721bf9",
   "metadata": {},
   "outputs": [],
   "source": [
    "#fastfood_us_df.to_csv('fastfood_census.csv', index = False)"
   ]
  },
  {
   "cell_type": "code",
   "execution_count": 6,
   "id": "cfa74492",
   "metadata": {},
   "outputs": [
    {
     "data": {
      "text/plain": [
       "McDonald's                1628\n",
       "Taco Bell                  876\n",
       "Burger King                711\n",
       "Subway                     654\n",
       "Arby's                     569\n",
       "Wendy's                    531\n",
       "Jack in the Box            290\n",
       "Chick-fil-A                194\n",
       "Pizza Hut                  180\n",
       "Domino's Pizza             175\n",
       "Dairy Queen                172\n",
       "Sonic Drive-In             170\n",
       "KFC                        155\n",
       "Carl's Jr.                 108\n",
       "Jimmy John's               102\n",
       "Hardee's                    96\n",
       "Krystal                     68\n",
       "Panera Bread                63\n",
       "Culver's                    63\n",
       "Dunkin' Donuts              59\n",
       "Del Taco                    55\n",
       "Steak 'n Shake              49\n",
       "SUBWAY                      49\n",
       "In-N-Out Burger             47\n",
       "Taco John's                 44\n",
       "Panda Express               43\n",
       "Long John Silver's          43\n",
       "Checkers                    36\n",
       "Whataburger                 36\n",
       "Waffle House                35\n",
       "Boston Market               33\n",
       "Chipotle Mexican Grill      33\n",
       "Bojangles                   29\n",
       "Wienerschnitzel             26\n",
       "Rally's                     25\n",
       "White Castle                25\n",
       "Bob Evans Restaurant        24\n",
       "Baskin-Robbins              22\n",
       "Church's Chicken            22\n",
       "Quiznos                     22\n",
       "Five Guys                   21\n",
       "Taco Time                   20\n",
       "Popeyes                     19\n",
       "Taco Bueno                  18\n",
       "El Pollo Loco               17\n",
       "Name: name, dtype: int64"
      ]
     },
     "execution_count": 6,
     "metadata": {},
     "output_type": "execute_result"
    }
   ],
   "source": [
    "fastfood_us['name'].value_counts()"
   ]
  },
  {
   "cell_type": "code",
   "execution_count": 7,
   "id": "2fb65748",
   "metadata": {},
   "outputs": [
    {
     "data": {
      "text/plain": [
       "McDonald's                1628\n",
       "Taco Bell                  876\n",
       "Burger King                711\n",
       "Subway                     654\n",
       "Arby's                     569\n",
       "Wendy's                    531\n",
       "Jack in the Box            290\n",
       "Chick-fil-A                194\n",
       "Pizza Hut                  180\n",
       "Domino's Pizza             175\n",
       "Dairy Queen                172\n",
       "Sonic Drive-In             170\n",
       "KFC                        155\n",
       "Carl's Jr.                 108\n",
       "Jimmy John's               102\n",
       "Hardee's                    96\n",
       "Krystal                     68\n",
       "Panera Bread                63\n",
       "Culver's                    63\n",
       "Dunkin' Donuts              59\n",
       "Del Taco                    55\n",
       "Steak 'n Shake              49\n",
       "SUBWAY                      49\n",
       "In-N-Out Burger             47\n",
       "Taco John's                 44\n",
       "Panda Express               43\n",
       "Long John Silver's          43\n",
       "Checkers                    36\n",
       "Whataburger                 36\n",
       "Waffle House                35\n",
       "Boston Market               33\n",
       "Chipotle Mexican Grill      33\n",
       "Bojangles                   29\n",
       "Wienerschnitzel             26\n",
       "Rally's                     25\n",
       "White Castle                25\n",
       "Bob Evans Restaurant        24\n",
       "Baskin-Robbins              22\n",
       "Church's Chicken            22\n",
       "Quiznos                     22\n",
       "Five Guys                   21\n",
       "Taco Time                   20\n",
       "Popeyes                     19\n",
       "Taco Bueno                  18\n",
       "El Pollo Loco               17\n",
       "Name: name, dtype: int64"
      ]
     },
     "execution_count": 7,
     "metadata": {},
     "output_type": "execute_result"
    }
   ],
   "source": [
    "threshold = 16 # Anything that occurs less than this will be removed.\n",
    "value_counts = fastfood_us['name'].value_counts() # Entire DataFrame \n",
    "to_remove = value_counts[value_counts <=threshold].index\n",
    "fastfood_us.replace(to_remove, np.nan, inplace=True)\n",
    "\n",
    "fastfood_us=fastfood_us.dropna()\n",
    "\n",
    "fastfood_us['name'].value_counts()"
   ]
  },
  {
   "cell_type": "code",
   "execution_count": 8,
   "id": "90caceef",
   "metadata": {
    "scrolled": true
   },
   "outputs": [
    {
     "data": {
      "text/html": [
       "<div>\n",
       "<style scoped>\n",
       "    .dataframe tbody tr th:only-of-type {\n",
       "        vertical-align: middle;\n",
       "    }\n",
       "\n",
       "    .dataframe tbody tr th {\n",
       "        vertical-align: top;\n",
       "    }\n",
       "\n",
       "    .dataframe thead th {\n",
       "        text-align: right;\n",
       "    }\n",
       "</style>\n",
       "<table border=\"1\" class=\"dataframe\">\n",
       "  <thead>\n",
       "    <tr style=\"text-align: right;\">\n",
       "      <th></th>\n",
       "      <th>name</th>\n",
       "      <th>country</th>\n",
       "      <th>latitude</th>\n",
       "      <th>longitude</th>\n",
       "      <th>Street Adress</th>\n",
       "      <th>province</th>\n",
       "      <th>state</th>\n",
       "      <th>region</th>\n",
       "      <th>division</th>\n",
       "      <th>price_level</th>\n",
       "      <th>rating</th>\n",
       "      <th>user_ratings_total</th>\n",
       "    </tr>\n",
       "  </thead>\n",
       "  <tbody>\n",
       "    <tr>\n",
       "      <th>0</th>\n",
       "      <td>Sonic Drive-In</td>\n",
       "      <td>US</td>\n",
       "      <td>29.814697</td>\n",
       "      <td>-90.814742</td>\n",
       "      <td>800 N Canal Blvd, Thibodaux, LA 70301</td>\n",
       "      <td>Thibodaux</td>\n",
       "      <td>LA</td>\n",
       "      <td>South</td>\n",
       "      <td>West South Central</td>\n",
       "      <td>1.0</td>\n",
       "      <td>4.3</td>\n",
       "      <td>479.0</td>\n",
       "    </tr>\n",
       "    <tr>\n",
       "      <th>1</th>\n",
       "      <td>Taco Bell</td>\n",
       "      <td>US</td>\n",
       "      <td>35.803788</td>\n",
       "      <td>-83.580553</td>\n",
       "      <td>206 Wears Valley Rd, Pigeon Forge, TN 37863</td>\n",
       "      <td>Pigeon Forge</td>\n",
       "      <td>TN</td>\n",
       "      <td>South</td>\n",
       "      <td>East South Central</td>\n",
       "      <td>1.0</td>\n",
       "      <td>3.3</td>\n",
       "      <td>1029.0</td>\n",
       "    </tr>\n",
       "    <tr>\n",
       "      <th>2</th>\n",
       "      <td>Arby's</td>\n",
       "      <td>US</td>\n",
       "      <td>35.782339</td>\n",
       "      <td>-83.551408</td>\n",
       "      <td>3652 Parkway, Pigeon Forge, TN 37863</td>\n",
       "      <td>Pigeon Forge</td>\n",
       "      <td>TN</td>\n",
       "      <td>South</td>\n",
       "      <td>East South Central</td>\n",
       "      <td>1.0</td>\n",
       "      <td>3.9</td>\n",
       "      <td>1620.0</td>\n",
       "    </tr>\n",
       "    <tr>\n",
       "      <th>3</th>\n",
       "      <td>Steak 'n Shake</td>\n",
       "      <td>US</td>\n",
       "      <td>33.562738</td>\n",
       "      <td>-84.321143</td>\n",
       "      <td>2118 Mt Zion Parkway, Morrow, GA 30260</td>\n",
       "      <td>Morrow</td>\n",
       "      <td>GA</td>\n",
       "      <td>South</td>\n",
       "      <td>South Atlantic</td>\n",
       "      <td>1.0</td>\n",
       "      <td>3.4</td>\n",
       "      <td>5287.0</td>\n",
       "    </tr>\n",
       "    <tr>\n",
       "      <th>4</th>\n",
       "      <td>Wendy's</td>\n",
       "      <td>US</td>\n",
       "      <td>42.368823</td>\n",
       "      <td>-83.138251</td>\n",
       "      <td>9768 Grand River Ave, Detroit, MI 48204</td>\n",
       "      <td>Detroit</td>\n",
       "      <td>MI</td>\n",
       "      <td>Midwest</td>\n",
       "      <td>East North Central</td>\n",
       "      <td>1.0</td>\n",
       "      <td>3.6</td>\n",
       "      <td>1560.0</td>\n",
       "    </tr>\n",
       "  </tbody>\n",
       "</table>\n",
       "</div>"
      ],
      "text/plain": [
       "             name country   latitude  longitude  \\\n",
       "0  Sonic Drive-In      US  29.814697 -90.814742   \n",
       "1       Taco Bell      US  35.803788 -83.580553   \n",
       "2          Arby's      US  35.782339 -83.551408   \n",
       "3  Steak 'n Shake      US  33.562738 -84.321143   \n",
       "4         Wendy's      US  42.368823 -83.138251   \n",
       "\n",
       "                                 Street Adress       province state   region  \\\n",
       "0        800 N Canal Blvd, Thibodaux, LA 70301      Thibodaux    LA    South   \n",
       "1  206 Wears Valley Rd, Pigeon Forge, TN 37863   Pigeon Forge    TN    South   \n",
       "2         3652 Parkway, Pigeon Forge, TN 37863   Pigeon Forge    TN    South   \n",
       "3       2118 Mt Zion Parkway, Morrow, GA 30260         Morrow    GA    South   \n",
       "4      9768 Grand River Ave, Detroit, MI 48204        Detroit    MI  Midwest   \n",
       "\n",
       "             division  price_level  rating  user_ratings_total  \n",
       "0  West South Central          1.0     4.3               479.0  \n",
       "1  East South Central          1.0     3.3              1029.0  \n",
       "2  East South Central          1.0     3.9              1620.0  \n",
       "3      South Atlantic          1.0     3.4              5287.0  \n",
       "4  East North Central          1.0     3.6              1560.0  "
      ]
     },
     "execution_count": 8,
     "metadata": {},
     "output_type": "execute_result"
    }
   ],
   "source": [
    "fastfood_us.head()"
   ]
  },
  {
   "cell_type": "code",
   "execution_count": 30,
   "id": "4e7a1e4d",
   "metadata": {},
   "outputs": [],
   "source": [
    "fastfood_counts = fastfood_us['region'].value_counts()"
   ]
  },
  {
   "cell_type": "code",
   "execution_count": 31,
   "id": "b259eb28",
   "metadata": {},
   "outputs": [],
   "source": [
    "fastfood_US_counts = fastfood_counts.rename_axis(\"region\")"
   ]
  },
  {
   "cell_type": "code",
   "execution_count": 41,
   "id": "d2ad3f9b",
   "metadata": {},
   "outputs": [
    {
     "data": {
      "text/plain": [
       "region\n",
       "South        2978\n",
       "Midwest      1957\n",
       "West         1857\n",
       "Northeast     865\n",
       "Name: region, dtype: int64"
      ]
     },
     "execution_count": 41,
     "metadata": {},
     "output_type": "execute_result"
    }
   ],
   "source": [
    "fastfood_US_counts=fastfood_US_counts.head(4)\n",
    "fastfood_US_counts"
   ]
  },
  {
   "cell_type": "code",
   "execution_count": 44,
   "id": "446392d2",
   "metadata": {},
   "outputs": [
    {
     "data": {
      "text/plain": [
       "([<matplotlib.patches.Wedge at 0x7f925dd123a0>,\n",
       "  <matplotlib.patches.Wedge at 0x7f925dd12d30>,\n",
       "  <matplotlib.patches.Wedge at 0x7f925dd21700>,\n",
       "  <matplotlib.patches.Wedge at 0x7f925dd2f0d0>],\n",
       " [Text(-0.9192533237184914, -0.7713451411868145, 'South'),\n",
       "  Text(0.9932192030695878, -0.4727743802849444, 'Midwest'),\n",
       "  Text(0.8646583871757344, 0.6799749065124814, 'West'),\n",
       "  Text(-0.25933484220301817, 1.068992721967524, 'Northeast')],\n",
       " [Text(-0.5362311055024532, -0.4499513323589751, '44.4%'),\n",
       "  Text(0.5417559289470478, -0.25787693470087875, '19.2%'),\n",
       "  Text(0.47163184755040055, 0.3708954035522625, '16.2%'),\n",
       "  Text(-0.14145536847437354, 0.583086939255013, '20.2%')])"
      ]
     },
     "execution_count": 44,
     "metadata": {},
     "output_type": "execute_result"
    },
    {
     "data": {
      "image/png": "[encoded data removed]",
      "text/plain": [
       "<Figure size 640x480 with 1 Axes>"
      ]
     },
     "metadata": {},
     "output_type": "display_data"
    }
   ],
   "source": [
    "# Pie Chart Parameters\n",
    "labels = [\"South\", \"Midwest\", \"West\", \"Northeast\"]\n",
    "sizes = [220, 95, 80, 100]\n",
    "colors = [\"red\", \"yellow\", \"green\", \"orange\"]\n",
    "explode = (0.1, 0, 0, 0)\n",
    "plt.pie(sizes, explode=explode, labels=labels, colors=colors,\n",
    "        autopct=\"%1.1f%%\", shadow=True, startangle=140)"
   ]
  },
  {
   "cell_type": "code",
   "execution_count": null,
   "id": "fc8fe711",
   "metadata": {},
   "outputs": [],
   "source": []
  }
 ],
 "metadata": {
  "kernelspec": {
   "display_name": "Python 3 (ipykernel)",
   "language": "python",
   "name": "python3"
  },
  "language_info": {
   "codemirror_mode": {
    "name": "ipython",
    "version": 3
   },
   "file_extension": ".py",
   "mimetype": "text/x-python",
   "name": "python",
   "nbconvert_exporter": "python",
   "pygments_lexer": "ipython3",
   "version": "3.9.12"
  }
 },
 "nbformat": 4,
 "nbformat_minor": 5
}
